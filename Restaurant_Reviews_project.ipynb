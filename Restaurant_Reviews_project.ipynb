{
  "nbformat": 4,
  "nbformat_minor": 0,
  "metadata": {
    "colab": {
      "provenance": [],
      "authorship_tag": "ABX9TyMMOdyp4+S1fS4akgtro3WL",
      "include_colab_link": true
    },
    "kernelspec": {
      "name": "python3",
      "display_name": "Python 3"
    },
    "language_info": {
      "name": "python"
    }
  },
  "cells": [
    {
      "cell_type": "markdown",
      "metadata": {
        "id": "view-in-github",
        "colab_type": "text"
      },
      "source": [
        "<a href=\"https://colab.research.google.com/github/AKVITA380/Deep-Learning-6-July-2024/blob/main/Restaurant_Reviews_project.ipynb\" target=\"_parent\"><img src=\"https://colab.research.google.com/assets/colab-badge.svg\" alt=\"Open In Colab\"/></a>"
      ]
    },
    {
      "cell_type": "markdown",
      "source": [
        "Sentiment Analysis with Keras"
      ],
      "metadata": {
        "id": "1tXgjhe7t6gc"
      }
    },
    {
      "cell_type": "code",
      "execution_count": 1,
      "metadata": {
        "id": "0jNVtycgt21u"
      },
      "outputs": [],
      "source": [
        "from warnings import filterwarnings\n",
        "filterwarnings('ignore')"
      ]
    },
    {
      "cell_type": "markdown",
      "source": [
        "![image.png](data:image/png;base64,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)"
      ],
      "metadata": {
        "id": "O2dxXcZMuOZY"
      }
    },
    {
      "cell_type": "markdown",
      "source": [
        "Step 1: Read the dataset"
      ],
      "metadata": {
        "id": "8shsEbCAuUng"
      }
    },
    {
      "cell_type": "code",
      "source": [
        "import pandas as pd\n",
        "url = \"https://raw.githubusercontent.com/utkarshg1/Neural-Net-Datasets/main/Restaurant_Reviews.tsv\"\n",
        "df=pd.read_csv(url,sep=\"\\t\")\n",
        "df.head()"
      ],
      "metadata": {
        "colab": {
          "base_uri": "https://localhost:8080/",
          "height": 206
        },
        "id": "C32HT9tluUyv",
        "outputId": "a0784a87-b6f3-42ef-801a-3246cb963a3b"
      },
      "execution_count": 2,
      "outputs": [
        {
          "output_type": "execute_result",
          "data": {
            "text/plain": [
              "                                              Review  Liked\n",
              "0                           Wow... Loved this place.      1\n",
              "1                                 Crust is not good.      0\n",
              "2          Not tasty and the texture was just nasty.      0\n",
              "3  Stopped by during the late May bank holiday of...      1\n",
              "4  The selection on the menu was great and so wer...      1"
            ],
            "text/html": [
              "\n",
              "  <div id=\"df-23717e40-04f1-4dbe-b204-614406cb52c3\" class=\"colab-df-container\">\n",
              "    <div>\n",
              "<style scoped>\n",
              "    .dataframe tbody tr th:only-of-type {\n",
              "        vertical-align: middle;\n",
              "    }\n",
              "\n",
              "    .dataframe tbody tr th {\n",
              "        vertical-align: top;\n",
              "    }\n",
              "\n",
              "    .dataframe thead th {\n",
              "        text-align: right;\n",
              "    }\n",
              "</style>\n",
              "<table border=\"1\" class=\"dataframe\">\n",
              "  <thead>\n",
              "    <tr style=\"text-align: right;\">\n",
              "      <th></th>\n",
              "      <th>Review</th>\n",
              "      <th>Liked</th>\n",
              "    </tr>\n",
              "  </thead>\n",
              "  <tbody>\n",
              "    <tr>\n",
              "      <th>0</th>\n",
              "      <td>Wow... Loved this place.</td>\n",
              "      <td>1</td>\n",
              "    </tr>\n",
              "    <tr>\n",
              "      <th>1</th>\n",
              "      <td>Crust is not good.</td>\n",
              "      <td>0</td>\n",
              "    </tr>\n",
              "    <tr>\n",
              "      <th>2</th>\n",
              "      <td>Not tasty and the texture was just nasty.</td>\n",
              "      <td>0</td>\n",
              "    </tr>\n",
              "    <tr>\n",
              "      <th>3</th>\n",
              "      <td>Stopped by during the late May bank holiday of...</td>\n",
              "      <td>1</td>\n",
              "    </tr>\n",
              "    <tr>\n",
              "      <th>4</th>\n",
              "      <td>The selection on the menu was great and so wer...</td>\n",
              "      <td>1</td>\n",
              "    </tr>\n",
              "  </tbody>\n",
              "</table>\n",
              "</div>\n",
              "    <div class=\"colab-df-buttons\">\n",
              "\n",
              "  <div class=\"colab-df-container\">\n",
              "    <button class=\"colab-df-convert\" onclick=\"convertToInteractive('df-23717e40-04f1-4dbe-b204-614406cb52c3')\"\n",
              "            title=\"Convert this dataframe to an interactive table.\"\n",
              "            style=\"display:none;\">\n",
              "\n",
              "  <svg xmlns=\"http://www.w3.org/2000/svg\" height=\"24px\" viewBox=\"0 -960 960 960\">\n",
              "    <path d=\"M120-120v-720h720v720H120Zm60-500h600v-160H180v160Zm220 220h160v-160H400v160Zm0 220h160v-160H400v160ZM180-400h160v-160H180v160Zm440 0h160v-160H620v160ZM180-180h160v-160H180v160Zm440 0h160v-160H620v160Z\"/>\n",
              "  </svg>\n",
              "    </button>\n",
              "\n",
              "  <style>\n",
              "    .colab-df-container {\n",
              "      display:flex;\n",
              "      gap: 12px;\n",
              "    }\n",
              "\n",
              "    .colab-df-convert {\n",
              "      background-color: #E8F0FE;\n",
              "      border: none;\n",
              "      border-radius: 50%;\n",
              "      cursor: pointer;\n",
              "      display: none;\n",
              "      fill: #1967D2;\n",
              "      height: 32px;\n",
              "      padding: 0 0 0 0;\n",
              "      width: 32px;\n",
              "    }\n",
              "\n",
              "    .colab-df-convert:hover {\n",
              "      background-color: #E2EBFA;\n",
              "      box-shadow: 0px 1px 2px rgba(60, 64, 67, 0.3), 0px 1px 3px 1px rgba(60, 64, 67, 0.15);\n",
              "      fill: #174EA6;\n",
              "    }\n",
              "\n",
              "    .colab-df-buttons div {\n",
              "      margin-bottom: 4px;\n",
              "    }\n",
              "\n",
              "    [theme=dark] .colab-df-convert {\n",
              "      background-color: #3B4455;\n",
              "      fill: #D2E3FC;\n",
              "    }\n",
              "\n",
              "    [theme=dark] .colab-df-convert:hover {\n",
              "      background-color: #434B5C;\n",
              "      box-shadow: 0px 1px 3px 1px rgba(0, 0, 0, 0.15);\n",
              "      filter: drop-shadow(0px 1px 2px rgba(0, 0, 0, 0.3));\n",
              "      fill: #FFFFFF;\n",
              "    }\n",
              "  </style>\n",
              "\n",
              "    <script>\n",
              "      const buttonEl =\n",
              "        document.querySelector('#df-23717e40-04f1-4dbe-b204-614406cb52c3 button.colab-df-convert');\n",
              "      buttonEl.style.display =\n",
              "        google.colab.kernel.accessAllowed ? 'block' : 'none';\n",
              "\n",
              "      async function convertToInteractive(key) {\n",
              "        const element = document.querySelector('#df-23717e40-04f1-4dbe-b204-614406cb52c3');\n",
              "        const dataTable =\n",
              "          await google.colab.kernel.invokeFunction('convertToInteractive',\n",
              "                                                    [key], {});\n",
              "        if (!dataTable) return;\n",
              "\n",
              "        const docLinkHtml = 'Like what you see? Visit the ' +\n",
              "          '<a target=\"_blank\" href=https://colab.research.google.com/notebooks/data_table.ipynb>data table notebook</a>'\n",
              "          + ' to learn more about interactive tables.';\n",
              "        element.innerHTML = '';\n",
              "        dataTable['output_type'] = 'display_data';\n",
              "        await google.colab.output.renderOutput(dataTable, element);\n",
              "        const docLink = document.createElement('div');\n",
              "        docLink.innerHTML = docLinkHtml;\n",
              "        element.appendChild(docLink);\n",
              "      }\n",
              "    </script>\n",
              "  </div>\n",
              "\n",
              "\n",
              "<div id=\"df-f6462a75-a5f3-4048-aca4-505d330dbfc7\">\n",
              "  <button class=\"colab-df-quickchart\" onclick=\"quickchart('df-f6462a75-a5f3-4048-aca4-505d330dbfc7')\"\n",
              "            title=\"Suggest charts\"\n",
              "            style=\"display:none;\">\n",
              "\n",
              "<svg xmlns=\"http://www.w3.org/2000/svg\" height=\"24px\"viewBox=\"0 0 24 24\"\n",
              "     width=\"24px\">\n",
              "    <g>\n",
              "        <path d=\"M19 3H5c-1.1 0-2 .9-2 2v14c0 1.1.9 2 2 2h14c1.1 0 2-.9 2-2V5c0-1.1-.9-2-2-2zM9 17H7v-7h2v7zm4 0h-2V7h2v10zm4 0h-2v-4h2v4z\"/>\n",
              "    </g>\n",
              "</svg>\n",
              "  </button>\n",
              "\n",
              "<style>\n",
              "  .colab-df-quickchart {\n",
              "      --bg-color: #E8F0FE;\n",
              "      --fill-color: #1967D2;\n",
              "      --hover-bg-color: #E2EBFA;\n",
              "      --hover-fill-color: #174EA6;\n",
              "      --disabled-fill-color: #AAA;\n",
              "      --disabled-bg-color: #DDD;\n",
              "  }\n",
              "\n",
              "  [theme=dark] .colab-df-quickchart {\n",
              "      --bg-color: #3B4455;\n",
              "      --fill-color: #D2E3FC;\n",
              "      --hover-bg-color: #434B5C;\n",
              "      --hover-fill-color: #FFFFFF;\n",
              "      --disabled-bg-color: #3B4455;\n",
              "      --disabled-fill-color: #666;\n",
              "  }\n",
              "\n",
              "  .colab-df-quickchart {\n",
              "    background-color: var(--bg-color);\n",
              "    border: none;\n",
              "    border-radius: 50%;\n",
              "    cursor: pointer;\n",
              "    display: none;\n",
              "    fill: var(--fill-color);\n",
              "    height: 32px;\n",
              "    padding: 0;\n",
              "    width: 32px;\n",
              "  }\n",
              "\n",
              "  .colab-df-quickchart:hover {\n",
              "    background-color: var(--hover-bg-color);\n",
              "    box-shadow: 0 1px 2px rgba(60, 64, 67, 0.3), 0 1px 3px 1px rgba(60, 64, 67, 0.15);\n",
              "    fill: var(--button-hover-fill-color);\n",
              "  }\n",
              "\n",
              "  .colab-df-quickchart-complete:disabled,\n",
              "  .colab-df-quickchart-complete:disabled:hover {\n",
              "    background-color: var(--disabled-bg-color);\n",
              "    fill: var(--disabled-fill-color);\n",
              "    box-shadow: none;\n",
              "  }\n",
              "\n",
              "  .colab-df-spinner {\n",
              "    border: 2px solid var(--fill-color);\n",
              "    border-color: transparent;\n",
              "    border-bottom-color: var(--fill-color);\n",
              "    animation:\n",
              "      spin 1s steps(1) infinite;\n",
              "  }\n",
              "\n",
              "  @keyframes spin {\n",
              "    0% {\n",
              "      border-color: transparent;\n",
              "      border-bottom-color: var(--fill-color);\n",
              "      border-left-color: var(--fill-color);\n",
              "    }\n",
              "    20% {\n",
              "      border-color: transparent;\n",
              "      border-left-color: var(--fill-color);\n",
              "      border-top-color: var(--fill-color);\n",
              "    }\n",
              "    30% {\n",
              "      border-color: transparent;\n",
              "      border-left-color: var(--fill-color);\n",
              "      border-top-color: var(--fill-color);\n",
              "      border-right-color: var(--fill-color);\n",
              "    }\n",
              "    40% {\n",
              "      border-color: transparent;\n",
              "      border-right-color: var(--fill-color);\n",
              "      border-top-color: var(--fill-color);\n",
              "    }\n",
              "    60% {\n",
              "      border-color: transparent;\n",
              "      border-right-color: var(--fill-color);\n",
              "    }\n",
              "    80% {\n",
              "      border-color: transparent;\n",
              "      border-right-color: var(--fill-color);\n",
              "      border-bottom-color: var(--fill-color);\n",
              "    }\n",
              "    90% {\n",
              "      border-color: transparent;\n",
              "      border-bottom-color: var(--fill-color);\n",
              "    }\n",
              "  }\n",
              "</style>\n",
              "\n",
              "  <script>\n",
              "    async function quickchart(key) {\n",
              "      const quickchartButtonEl =\n",
              "        document.querySelector('#' + key + ' button');\n",
              "      quickchartButtonEl.disabled = true;  // To prevent multiple clicks.\n",
              "      quickchartButtonEl.classList.add('colab-df-spinner');\n",
              "      try {\n",
              "        const charts = await google.colab.kernel.invokeFunction(\n",
              "            'suggestCharts', [key], {});\n",
              "      } catch (error) {\n",
              "        console.error('Error during call to suggestCharts:', error);\n",
              "      }\n",
              "      quickchartButtonEl.classList.remove('colab-df-spinner');\n",
              "      quickchartButtonEl.classList.add('colab-df-quickchart-complete');\n",
              "    }\n",
              "    (() => {\n",
              "      let quickchartButtonEl =\n",
              "        document.querySelector('#df-f6462a75-a5f3-4048-aca4-505d330dbfc7 button');\n",
              "      quickchartButtonEl.style.display =\n",
              "        google.colab.kernel.accessAllowed ? 'block' : 'none';\n",
              "    })();\n",
              "  </script>\n",
              "</div>\n",
              "\n",
              "    </div>\n",
              "  </div>\n"
            ],
            "application/vnd.google.colaboratory.intrinsic+json": {
              "type": "dataframe",
              "variable_name": "df",
              "summary": "{\n  \"name\": \"df\",\n  \"rows\": 1000,\n  \"fields\": [\n    {\n      \"column\": \"Review\",\n      \"properties\": {\n        \"dtype\": \"string\",\n        \"num_unique_values\": 996,\n        \"samples\": [\n          \"They were excellent.\",\n          \"Your servers suck, wait, correction, our server Heimer sucked.\",\n          \"Will be back again!\"\n        ],\n        \"semantic_type\": \"\",\n        \"description\": \"\"\n      }\n    },\n    {\n      \"column\": \"Liked\",\n      \"properties\": {\n        \"dtype\": \"number\",\n        \"std\": 0,\n        \"min\": 0,\n        \"max\": 1,\n        \"num_unique_values\": 2,\n        \"samples\": [\n          0,\n          1\n        ],\n        \"semantic_type\": \"\",\n        \"description\": \"\"\n      }\n    }\n  ]\n}"
            }
          },
          "metadata": {},
          "execution_count": 2
        }
      ]
    },
    {
      "cell_type": "code",
      "source": [
        "s = \"WELCOME, to Deep Learning Class!!!\""
      ],
      "metadata": {
        "id": "mbkbMpAxuJFU"
      },
      "execution_count": 3,
      "outputs": []
    },
    {
      "cell_type": "code",
      "source": [
        "s=s.lower()\n",
        "s"
      ],
      "metadata": {
        "colab": {
          "base_uri": "https://localhost:8080/",
          "height": 35
        },
        "id": "DMlkPQsku9zH",
        "outputId": "fedb2dd5-90a4-4d3a-e2ba-5499411ab344"
      },
      "execution_count": 5,
      "outputs": [
        {
          "output_type": "execute_result",
          "data": {
            "text/plain": [
              "'welcome, to deep learning class!!!'"
            ],
            "application/vnd.google.colaboratory.intrinsic+json": {
              "type": "string"
            }
          },
          "metadata": {},
          "execution_count": 5
        }
      ]
    },
    {
      "cell_type": "markdown",
      "source": [
        "\n",
        "### provide proper pattern [^a-z]"
      ],
      "metadata": {
        "id": "pNurIrSxvGyi"
      }
    },
    {
      "cell_type": "code",
      "source": [
        "import re\n",
        "s1 = re.sub(\"[^a-z]\",\" \", s)\n",
        "s1"
      ],
      "metadata": {
        "colab": {
          "base_uri": "https://localhost:8080/",
          "height": 35
        },
        "id": "t20656AhvIFu",
        "outputId": "bb5720bf-a4ac-494a-b0c8-9fa24602a8ec"
      },
      "execution_count": 7,
      "outputs": [
        {
          "output_type": "execute_result",
          "data": {
            "text/plain": [
              "'welcome  to deep learning class   '"
            ],
            "application/vnd.google.colaboratory.intrinsic+json": {
              "type": "string"
            }
          },
          "metadata": {},
          "execution_count": 7
        }
      ]
    },
    {
      "cell_type": "markdown",
      "source": [
        "Create a function to preprocess text"
      ],
      "metadata": {
        "id": "827uHoDRvw0N"
      }
    },
    {
      "cell_type": "code",
      "source": [
        "def preprocess_text(s):\n",
        "  s=s.lower()\n",
        "  s1 =re.sub(\"[^a-z]\",\" \",s)\n",
        "  return s"
      ],
      "metadata": {
        "id": "N8CU1yrUvxdE"
      },
      "execution_count": 8,
      "outputs": []
    },
    {
      "cell_type": "code",
      "source": [
        "a = \"Wow... , The expericence was very good\"\n",
        "preprocess_text(a)"
      ],
      "metadata": {
        "colab": {
          "base_uri": "https://localhost:8080/",
          "height": 35
        },
        "id": "jw8Hycdvwh8N",
        "outputId": "cda2edd3-6e3d-42db-e4b7-296354142e9f"
      },
      "execution_count": 9,
      "outputs": [
        {
          "output_type": "execute_result",
          "data": {
            "text/plain": [
              "'wow... , the expericence was very good'"
            ],
            "application/vnd.google.colaboratory.intrinsic+json": {
              "type": "string"
            }
          },
          "metadata": {},
          "execution_count": 9
        }
      ]
    },
    {
      "cell_type": "markdown",
      "source": [
        "Apply preprocessing on dataframe"
      ],
      "metadata": {
        "id": "oUauLgFswoyV"
      }
    },
    {
      "cell_type": "code",
      "source": [
        "df['Review_pre']=df['Review'].apply(preprocess_text)"
      ],
      "metadata": {
        "id": "_TAC8n1ewpQT"
      },
      "execution_count": 10,
      "outputs": []
    },
    {
      "cell_type": "code",
      "source": [
        "df"
      ],
      "metadata": {
        "colab": {
          "base_uri": "https://localhost:8080/",
          "height": 424
        },
        "id": "p1onh_ADw9h5",
        "outputId": "4ec7c11a-11ad-497a-df06-4474b44a248c"
      },
      "execution_count": 11,
      "outputs": [
        {
          "output_type": "execute_result",
          "data": {
            "text/plain": [
              "                                                Review  Liked  \\\n",
              "0                             Wow... Loved this place.      1   \n",
              "1                                   Crust is not good.      0   \n",
              "2            Not tasty and the texture was just nasty.      0   \n",
              "3    Stopped by during the late May bank holiday of...      1   \n",
              "4    The selection on the menu was great and so wer...      1   \n",
              "..                                                 ...    ...   \n",
              "995  I think food should have flavor and texture an...      0   \n",
              "996                           Appetite instantly gone.      0   \n",
              "997  Overall I was not impressed and would not go b...      0   \n",
              "998  The whole experience was underwhelming, and I ...      0   \n",
              "999  Then, as if I hadn't wasted enough of my life ...      0   \n",
              "\n",
              "                                            Review_pre  \n",
              "0                             wow... loved this place.  \n",
              "1                                   crust is not good.  \n",
              "2            not tasty and the texture was just nasty.  \n",
              "3    stopped by during the late may bank holiday of...  \n",
              "4    the selection on the menu was great and so wer...  \n",
              "..                                                 ...  \n",
              "995  i think food should have flavor and texture an...  \n",
              "996                           appetite instantly gone.  \n",
              "997  overall i was not impressed and would not go b...  \n",
              "998  the whole experience was underwhelming, and i ...  \n",
              "999  then, as if i hadn't wasted enough of my life ...  \n",
              "\n",
              "[1000 rows x 3 columns]"
            ],
            "text/html": [
              "\n",
              "  <div id=\"df-034c2f47-d020-4c94-813d-d309045a23ee\" class=\"colab-df-container\">\n",
              "    <div>\n",
              "<style scoped>\n",
              "    .dataframe tbody tr th:only-of-type {\n",
              "        vertical-align: middle;\n",
              "    }\n",
              "\n",
              "    .dataframe tbody tr th {\n",
              "        vertical-align: top;\n",
              "    }\n",
              "\n",
              "    .dataframe thead th {\n",
              "        text-align: right;\n",
              "    }\n",
              "</style>\n",
              "<table border=\"1\" class=\"dataframe\">\n",
              "  <thead>\n",
              "    <tr style=\"text-align: right;\">\n",
              "      <th></th>\n",
              "      <th>Review</th>\n",
              "      <th>Liked</th>\n",
              "      <th>Review_pre</th>\n",
              "    </tr>\n",
              "  </thead>\n",
              "  <tbody>\n",
              "    <tr>\n",
              "      <th>0</th>\n",
              "      <td>Wow... Loved this place.</td>\n",
              "      <td>1</td>\n",
              "      <td>wow... loved this place.</td>\n",
              "    </tr>\n",
              "    <tr>\n",
              "      <th>1</th>\n",
              "      <td>Crust is not good.</td>\n",
              "      <td>0</td>\n",
              "      <td>crust is not good.</td>\n",
              "    </tr>\n",
              "    <tr>\n",
              "      <th>2</th>\n",
              "      <td>Not tasty and the texture was just nasty.</td>\n",
              "      <td>0</td>\n",
              "      <td>not tasty and the texture was just nasty.</td>\n",
              "    </tr>\n",
              "    <tr>\n",
              "      <th>3</th>\n",
              "      <td>Stopped by during the late May bank holiday of...</td>\n",
              "      <td>1</td>\n",
              "      <td>stopped by during the late may bank holiday of...</td>\n",
              "    </tr>\n",
              "    <tr>\n",
              "      <th>4</th>\n",
              "      <td>The selection on the menu was great and so wer...</td>\n",
              "      <td>1</td>\n",
              "      <td>the selection on the menu was great and so wer...</td>\n",
              "    </tr>\n",
              "    <tr>\n",
              "      <th>...</th>\n",
              "      <td>...</td>\n",
              "      <td>...</td>\n",
              "      <td>...</td>\n",
              "    </tr>\n",
              "    <tr>\n",
              "      <th>995</th>\n",
              "      <td>I think food should have flavor and texture an...</td>\n",
              "      <td>0</td>\n",
              "      <td>i think food should have flavor and texture an...</td>\n",
              "    </tr>\n",
              "    <tr>\n",
              "      <th>996</th>\n",
              "      <td>Appetite instantly gone.</td>\n",
              "      <td>0</td>\n",
              "      <td>appetite instantly gone.</td>\n",
              "    </tr>\n",
              "    <tr>\n",
              "      <th>997</th>\n",
              "      <td>Overall I was not impressed and would not go b...</td>\n",
              "      <td>0</td>\n",
              "      <td>overall i was not impressed and would not go b...</td>\n",
              "    </tr>\n",
              "    <tr>\n",
              "      <th>998</th>\n",
              "      <td>The whole experience was underwhelming, and I ...</td>\n",
              "      <td>0</td>\n",
              "      <td>the whole experience was underwhelming, and i ...</td>\n",
              "    </tr>\n",
              "    <tr>\n",
              "      <th>999</th>\n",
              "      <td>Then, as if I hadn't wasted enough of my life ...</td>\n",
              "      <td>0</td>\n",
              "      <td>then, as if i hadn't wasted enough of my life ...</td>\n",
              "    </tr>\n",
              "  </tbody>\n",
              "</table>\n",
              "<p>1000 rows × 3 columns</p>\n",
              "</div>\n",
              "    <div class=\"colab-df-buttons\">\n",
              "\n",
              "  <div class=\"colab-df-container\">\n",
              "    <button class=\"colab-df-convert\" onclick=\"convertToInteractive('df-034c2f47-d020-4c94-813d-d309045a23ee')\"\n",
              "            title=\"Convert this dataframe to an interactive table.\"\n",
              "            style=\"display:none;\">\n",
              "\n",
              "  <svg xmlns=\"http://www.w3.org/2000/svg\" height=\"24px\" viewBox=\"0 -960 960 960\">\n",
              "    <path d=\"M120-120v-720h720v720H120Zm60-500h600v-160H180v160Zm220 220h160v-160H400v160Zm0 220h160v-160H400v160ZM180-400h160v-160H180v160Zm440 0h160v-160H620v160ZM180-180h160v-160H180v160Zm440 0h160v-160H620v160Z\"/>\n",
              "  </svg>\n",
              "    </button>\n",
              "\n",
              "  <style>\n",
              "    .colab-df-container {\n",
              "      display:flex;\n",
              "      gap: 12px;\n",
              "    }\n",
              "\n",
              "    .colab-df-convert {\n",
              "      background-color: #E8F0FE;\n",
              "      border: none;\n",
              "      border-radius: 50%;\n",
              "      cursor: pointer;\n",
              "      display: none;\n",
              "      fill: #1967D2;\n",
              "      height: 32px;\n",
              "      padding: 0 0 0 0;\n",
              "      width: 32px;\n",
              "    }\n",
              "\n",
              "    .colab-df-convert:hover {\n",
              "      background-color: #E2EBFA;\n",
              "      box-shadow: 0px 1px 2px rgba(60, 64, 67, 0.3), 0px 1px 3px 1px rgba(60, 64, 67, 0.15);\n",
              "      fill: #174EA6;\n",
              "    }\n",
              "\n",
              "    .colab-df-buttons div {\n",
              "      margin-bottom: 4px;\n",
              "    }\n",
              "\n",
              "    [theme=dark] .colab-df-convert {\n",
              "      background-color: #3B4455;\n",
              "      fill: #D2E3FC;\n",
              "    }\n",
              "\n",
              "    [theme=dark] .colab-df-convert:hover {\n",
              "      background-color: #434B5C;\n",
              "      box-shadow: 0px 1px 3px 1px rgba(0, 0, 0, 0.15);\n",
              "      filter: drop-shadow(0px 1px 2px rgba(0, 0, 0, 0.3));\n",
              "      fill: #FFFFFF;\n",
              "    }\n",
              "  </style>\n",
              "\n",
              "    <script>\n",
              "      const buttonEl =\n",
              "        document.querySelector('#df-034c2f47-d020-4c94-813d-d309045a23ee button.colab-df-convert');\n",
              "      buttonEl.style.display =\n",
              "        google.colab.kernel.accessAllowed ? 'block' : 'none';\n",
              "\n",
              "      async function convertToInteractive(key) {\n",
              "        const element = document.querySelector('#df-034c2f47-d020-4c94-813d-d309045a23ee');\n",
              "        const dataTable =\n",
              "          await google.colab.kernel.invokeFunction('convertToInteractive',\n",
              "                                                    [key], {});\n",
              "        if (!dataTable) return;\n",
              "\n",
              "        const docLinkHtml = 'Like what you see? Visit the ' +\n",
              "          '<a target=\"_blank\" href=https://colab.research.google.com/notebooks/data_table.ipynb>data table notebook</a>'\n",
              "          + ' to learn more about interactive tables.';\n",
              "        element.innerHTML = '';\n",
              "        dataTable['output_type'] = 'display_data';\n",
              "        await google.colab.output.renderOutput(dataTable, element);\n",
              "        const docLink = document.createElement('div');\n",
              "        docLink.innerHTML = docLinkHtml;\n",
              "        element.appendChild(docLink);\n",
              "      }\n",
              "    </script>\n",
              "  </div>\n",
              "\n",
              "\n",
              "<div id=\"df-5d590053-b82a-41c3-81b8-de06c81ea427\">\n",
              "  <button class=\"colab-df-quickchart\" onclick=\"quickchart('df-5d590053-b82a-41c3-81b8-de06c81ea427')\"\n",
              "            title=\"Suggest charts\"\n",
              "            style=\"display:none;\">\n",
              "\n",
              "<svg xmlns=\"http://www.w3.org/2000/svg\" height=\"24px\"viewBox=\"0 0 24 24\"\n",
              "     width=\"24px\">\n",
              "    <g>\n",
              "        <path d=\"M19 3H5c-1.1 0-2 .9-2 2v14c0 1.1.9 2 2 2h14c1.1 0 2-.9 2-2V5c0-1.1-.9-2-2-2zM9 17H7v-7h2v7zm4 0h-2V7h2v10zm4 0h-2v-4h2v4z\"/>\n",
              "    </g>\n",
              "</svg>\n",
              "  </button>\n",
              "\n",
              "<style>\n",
              "  .colab-df-quickchart {\n",
              "      --bg-color: #E8F0FE;\n",
              "      --fill-color: #1967D2;\n",
              "      --hover-bg-color: #E2EBFA;\n",
              "      --hover-fill-color: #174EA6;\n",
              "      --disabled-fill-color: #AAA;\n",
              "      --disabled-bg-color: #DDD;\n",
              "  }\n",
              "\n",
              "  [theme=dark] .colab-df-quickchart {\n",
              "      --bg-color: #3B4455;\n",
              "      --fill-color: #D2E3FC;\n",
              "      --hover-bg-color: #434B5C;\n",
              "      --hover-fill-color: #FFFFFF;\n",
              "      --disabled-bg-color: #3B4455;\n",
              "      --disabled-fill-color: #666;\n",
              "  }\n",
              "\n",
              "  .colab-df-quickchart {\n",
              "    background-color: var(--bg-color);\n",
              "    border: none;\n",
              "    border-radius: 50%;\n",
              "    cursor: pointer;\n",
              "    display: none;\n",
              "    fill: var(--fill-color);\n",
              "    height: 32px;\n",
              "    padding: 0;\n",
              "    width: 32px;\n",
              "  }\n",
              "\n",
              "  .colab-df-quickchart:hover {\n",
              "    background-color: var(--hover-bg-color);\n",
              "    box-shadow: 0 1px 2px rgba(60, 64, 67, 0.3), 0 1px 3px 1px rgba(60, 64, 67, 0.15);\n",
              "    fill: var(--button-hover-fill-color);\n",
              "  }\n",
              "\n",
              "  .colab-df-quickchart-complete:disabled,\n",
              "  .colab-df-quickchart-complete:disabled:hover {\n",
              "    background-color: var(--disabled-bg-color);\n",
              "    fill: var(--disabled-fill-color);\n",
              "    box-shadow: none;\n",
              "  }\n",
              "\n",
              "  .colab-df-spinner {\n",
              "    border: 2px solid var(--fill-color);\n",
              "    border-color: transparent;\n",
              "    border-bottom-color: var(--fill-color);\n",
              "    animation:\n",
              "      spin 1s steps(1) infinite;\n",
              "  }\n",
              "\n",
              "  @keyframes spin {\n",
              "    0% {\n",
              "      border-color: transparent;\n",
              "      border-bottom-color: var(--fill-color);\n",
              "      border-left-color: var(--fill-color);\n",
              "    }\n",
              "    20% {\n",
              "      border-color: transparent;\n",
              "      border-left-color: var(--fill-color);\n",
              "      border-top-color: var(--fill-color);\n",
              "    }\n",
              "    30% {\n",
              "      border-color: transparent;\n",
              "      border-left-color: var(--fill-color);\n",
              "      border-top-color: var(--fill-color);\n",
              "      border-right-color: var(--fill-color);\n",
              "    }\n",
              "    40% {\n",
              "      border-color: transparent;\n",
              "      border-right-color: var(--fill-color);\n",
              "      border-top-color: var(--fill-color);\n",
              "    }\n",
              "    60% {\n",
              "      border-color: transparent;\n",
              "      border-right-color: var(--fill-color);\n",
              "    }\n",
              "    80% {\n",
              "      border-color: transparent;\n",
              "      border-right-color: var(--fill-color);\n",
              "      border-bottom-color: var(--fill-color);\n",
              "    }\n",
              "    90% {\n",
              "      border-color: transparent;\n",
              "      border-bottom-color: var(--fill-color);\n",
              "    }\n",
              "  }\n",
              "</style>\n",
              "\n",
              "  <script>\n",
              "    async function quickchart(key) {\n",
              "      const quickchartButtonEl =\n",
              "        document.querySelector('#' + key + ' button');\n",
              "      quickchartButtonEl.disabled = true;  // To prevent multiple clicks.\n",
              "      quickchartButtonEl.classList.add('colab-df-spinner');\n",
              "      try {\n",
              "        const charts = await google.colab.kernel.invokeFunction(\n",
              "            'suggestCharts', [key], {});\n",
              "      } catch (error) {\n",
              "        console.error('Error during call to suggestCharts:', error);\n",
              "      }\n",
              "      quickchartButtonEl.classList.remove('colab-df-spinner');\n",
              "      quickchartButtonEl.classList.add('colab-df-quickchart-complete');\n",
              "    }\n",
              "    (() => {\n",
              "      let quickchartButtonEl =\n",
              "        document.querySelector('#df-5d590053-b82a-41c3-81b8-de06c81ea427 button');\n",
              "      quickchartButtonEl.style.display =\n",
              "        google.colab.kernel.accessAllowed ? 'block' : 'none';\n",
              "    })();\n",
              "  </script>\n",
              "</div>\n",
              "\n",
              "  <div id=\"id_e894cba1-179d-4eb6-a348-1ac1fce58b91\">\n",
              "    <style>\n",
              "      .colab-df-generate {\n",
              "        background-color: #E8F0FE;\n",
              "        border: none;\n",
              "        border-radius: 50%;\n",
              "        cursor: pointer;\n",
              "        display: none;\n",
              "        fill: #1967D2;\n",
              "        height: 32px;\n",
              "        padding: 0 0 0 0;\n",
              "        width: 32px;\n",
              "      }\n",
              "\n",
              "      .colab-df-generate:hover {\n",
              "        background-color: #E2EBFA;\n",
              "        box-shadow: 0px 1px 2px rgba(60, 64, 67, 0.3), 0px 1px 3px 1px rgba(60, 64, 67, 0.15);\n",
              "        fill: #174EA6;\n",
              "      }\n",
              "\n",
              "      [theme=dark] .colab-df-generate {\n",
              "        background-color: #3B4455;\n",
              "        fill: #D2E3FC;\n",
              "      }\n",
              "\n",
              "      [theme=dark] .colab-df-generate:hover {\n",
              "        background-color: #434B5C;\n",
              "        box-shadow: 0px 1px 3px 1px rgba(0, 0, 0, 0.15);\n",
              "        filter: drop-shadow(0px 1px 2px rgba(0, 0, 0, 0.3));\n",
              "        fill: #FFFFFF;\n",
              "      }\n",
              "    </style>\n",
              "    <button class=\"colab-df-generate\" onclick=\"generateWithVariable('df')\"\n",
              "            title=\"Generate code using this dataframe.\"\n",
              "            style=\"display:none;\">\n",
              "\n",
              "  <svg xmlns=\"http://www.w3.org/2000/svg\" height=\"24px\"viewBox=\"0 0 24 24\"\n",
              "       width=\"24px\">\n",
              "    <path d=\"M7,19H8.4L18.45,9,17,7.55,7,17.6ZM5,21V16.75L18.45,3.32a2,2,0,0,1,2.83,0l1.4,1.43a1.91,1.91,0,0,1,.58,1.4,1.91,1.91,0,0,1-.58,1.4L9.25,21ZM18.45,9,17,7.55Zm-12,3A5.31,5.31,0,0,0,4.9,8.1,5.31,5.31,0,0,0,1,6.5,5.31,5.31,0,0,0,4.9,4.9,5.31,5.31,0,0,0,6.5,1,5.31,5.31,0,0,0,8.1,4.9,5.31,5.31,0,0,0,12,6.5,5.46,5.46,0,0,0,6.5,12Z\"/>\n",
              "  </svg>\n",
              "    </button>\n",
              "    <script>\n",
              "      (() => {\n",
              "      const buttonEl =\n",
              "        document.querySelector('#id_e894cba1-179d-4eb6-a348-1ac1fce58b91 button.colab-df-generate');\n",
              "      buttonEl.style.display =\n",
              "        google.colab.kernel.accessAllowed ? 'block' : 'none';\n",
              "\n",
              "      buttonEl.onclick = () => {\n",
              "        google.colab.notebook.generateWithVariable('df');\n",
              "      }\n",
              "      })();\n",
              "    </script>\n",
              "  </div>\n",
              "\n",
              "    </div>\n",
              "  </div>\n"
            ],
            "application/vnd.google.colaboratory.intrinsic+json": {
              "type": "dataframe",
              "variable_name": "df",
              "summary": "{\n  \"name\": \"df\",\n  \"rows\": 1000,\n  \"fields\": [\n    {\n      \"column\": \"Review\",\n      \"properties\": {\n        \"dtype\": \"string\",\n        \"num_unique_values\": 996,\n        \"samples\": [\n          \"They were excellent.\",\n          \"Your servers suck, wait, correction, our server Heimer sucked.\",\n          \"Will be back again!\"\n        ],\n        \"semantic_type\": \"\",\n        \"description\": \"\"\n      }\n    },\n    {\n      \"column\": \"Liked\",\n      \"properties\": {\n        \"dtype\": \"number\",\n        \"std\": 0,\n        \"min\": 0,\n        \"max\": 1,\n        \"num_unique_values\": 2,\n        \"samples\": [\n          0,\n          1\n        ],\n        \"semantic_type\": \"\",\n        \"description\": \"\"\n      }\n    },\n    {\n      \"column\": \"Review_pre\",\n      \"properties\": {\n        \"dtype\": \"string\",\n        \"num_unique_values\": 996,\n        \"samples\": [\n          \"they were excellent.\",\n          \"your servers suck, wait, correction, our server heimer sucked.\"\n        ],\n        \"semantic_type\": \"\",\n        \"description\": \"\"\n      }\n    }\n  ]\n}"
            }
          },
          "metadata": {},
          "execution_count": 11
        }
      ]
    },
    {
      "cell_type": "markdown",
      "source": [
        "Apply TFIDF Vectorizer"
      ],
      "metadata": {
        "id": "8eSz8NysxC_d"
      }
    },
    {
      "cell_type": "code",
      "source": [
        "from sklearn.feature_extraction.text import TfidfVectorizer\n",
        "Tfid = TfidfVectorizer()\n",
        "X_pre = Tfid.fit_transform(df[\"Review_pre\"]).toarray()\n",
        "X_pre"
      ],
      "metadata": {
        "colab": {
          "base_uri": "https://localhost:8080/"
        },
        "id": "RG8ggL1LxOpQ",
        "outputId": "75e39567-8c92-453f-a537-a1b772f55eda"
      },
      "execution_count": 13,
      "outputs": [
        {
          "output_type": "execute_result",
          "data": {
            "text/plain": [
              "array([[0., 0., 0., ..., 0., 0., 0.],\n",
              "       [0., 0., 0., ..., 0., 0., 0.],\n",
              "       [0., 0., 0., ..., 0., 0., 0.],\n",
              "       ...,\n",
              "       [0., 0., 0., ..., 0., 0., 0.],\n",
              "       [0., 0., 0., ..., 0., 0., 0.],\n",
              "       [0., 0., 0., ..., 0., 0., 0.]])"
            ]
          },
          "metadata": {},
          "execution_count": 13
        }
      ]
    },
    {
      "cell_type": "code",
      "source": [
        "X_pre.shape"
      ],
      "metadata": {
        "colab": {
          "base_uri": "https://localhost:8080/"
        },
        "id": "u_4yOFLbzRa7",
        "outputId": "05ed909a-b13b-4a5e-d912-1f355c189aec"
      },
      "execution_count": 14,
      "outputs": [
        {
          "output_type": "execute_result",
          "data": {
            "text/plain": [
              "(1000, 2035)"
            ]
          },
          "metadata": {},
          "execution_count": 14
        }
      ]
    },
    {
      "cell_type": "markdown",
      "source": [
        "![image.png](data:image/png;base64,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)"
      ],
      "metadata": {
        "id": "L1QGBTUdzZH7"
      }
    },
    {
      "cell_type": "code",
      "source": [
        "Y = df[\"Liked\"]"
      ],
      "metadata": {
        "id": "LZLs0wNpzYE8"
      },
      "execution_count": 15,
      "outputs": []
    },
    {
      "cell_type": "code",
      "source": [
        "Y.head()"
      ],
      "metadata": {
        "colab": {
          "base_uri": "https://localhost:8080/",
          "height": 241
        },
        "id": "iVwuOWnSziMR",
        "outputId": "8e066ef5-73d6-4aca-fe58-47a116077f84"
      },
      "execution_count": 16,
      "outputs": [
        {
          "output_type": "execute_result",
          "data": {
            "text/plain": [
              "0    1\n",
              "1    0\n",
              "2    0\n",
              "3    1\n",
              "4    1\n",
              "Name: Liked, dtype: int64"
            ],
            "text/html": [
              "<div>\n",
              "<style scoped>\n",
              "    .dataframe tbody tr th:only-of-type {\n",
              "        vertical-align: middle;\n",
              "    }\n",
              "\n",
              "    .dataframe tbody tr th {\n",
              "        vertical-align: top;\n",
              "    }\n",
              "\n",
              "    .dataframe thead th {\n",
              "        text-align: right;\n",
              "    }\n",
              "</style>\n",
              "<table border=\"1\" class=\"dataframe\">\n",
              "  <thead>\n",
              "    <tr style=\"text-align: right;\">\n",
              "      <th></th>\n",
              "      <th>Liked</th>\n",
              "    </tr>\n",
              "  </thead>\n",
              "  <tbody>\n",
              "    <tr>\n",
              "      <th>0</th>\n",
              "      <td>1</td>\n",
              "    </tr>\n",
              "    <tr>\n",
              "      <th>1</th>\n",
              "      <td>0</td>\n",
              "    </tr>\n",
              "    <tr>\n",
              "      <th>2</th>\n",
              "      <td>0</td>\n",
              "    </tr>\n",
              "    <tr>\n",
              "      <th>3</th>\n",
              "      <td>1</td>\n",
              "    </tr>\n",
              "    <tr>\n",
              "      <th>4</th>\n",
              "      <td>1</td>\n",
              "    </tr>\n",
              "  </tbody>\n",
              "</table>\n",
              "</div><br><label><b>dtype:</b> int64</label>"
            ]
          },
          "metadata": {},
          "execution_count": 16
        }
      ]
    },
    {
      "cell_type": "markdown",
      "source": [
        "Apply Train test split"
      ],
      "metadata": {
        "id": "iPgFcWRm0KGD"
      }
    },
    {
      "cell_type": "code",
      "source": [
        "from sklearn.model_selection import train_test_split\n",
        "xtrain,xtest,ytrain,ytest = train_test_split(X_pre,Y,test_size=0.2, random_state=21)"
      ],
      "metadata": {
        "id": "wuq9HQh90KjQ"
      },
      "execution_count": 18,
      "outputs": []
    },
    {
      "cell_type": "code",
      "source": [
        "xtrain"
      ],
      "metadata": {
        "id": "-zRqGwUa0sjX",
        "outputId": "70ec826e-684c-4528-c3d4-569e34afaf1a",
        "colab": {
          "base_uri": "https://localhost:8080/"
        }
      },
      "execution_count": 19,
      "outputs": [
        {
          "output_type": "execute_result",
          "data": {
            "text/plain": [
              "array([[0., 0., 0., ..., 0., 0., 0.],\n",
              "       [0., 0., 0., ..., 0., 0., 0.],\n",
              "       [0., 0., 0., ..., 0., 0., 0.],\n",
              "       ...,\n",
              "       [0., 0., 0., ..., 0., 0., 0.],\n",
              "       [0., 0., 0., ..., 0., 0., 0.],\n",
              "       [0., 0., 0., ..., 0., 0., 0.]])"
            ]
          },
          "metadata": {},
          "execution_count": 19
        }
      ]
    },
    {
      "cell_type": "code",
      "source": [
        "ytrain"
      ],
      "metadata": {
        "id": "1dnVvnwC1Yo_",
        "outputId": "8f72ca83-53d1-494f-8f87-67bb8ace08ea",
        "colab": {
          "base_uri": "https://localhost:8080/",
          "height": 458
        }
      },
      "execution_count": 20,
      "outputs": [
        {
          "output_type": "execute_result",
          "data": {
            "text/plain": [
              "108    1\n",
              "134    1\n",
              "585    1\n",
              "42     0\n",
              "990    0\n",
              "      ..\n",
              "48     1\n",
              "772    0\n",
              "824    0\n",
              "207    0\n",
              "969    0\n",
              "Name: Liked, Length: 800, dtype: int64"
            ],
            "text/html": [
              "<div>\n",
              "<style scoped>\n",
              "    .dataframe tbody tr th:only-of-type {\n",
              "        vertical-align: middle;\n",
              "    }\n",
              "\n",
              "    .dataframe tbody tr th {\n",
              "        vertical-align: top;\n",
              "    }\n",
              "\n",
              "    .dataframe thead th {\n",
              "        text-align: right;\n",
              "    }\n",
              "</style>\n",
              "<table border=\"1\" class=\"dataframe\">\n",
              "  <thead>\n",
              "    <tr style=\"text-align: right;\">\n",
              "      <th></th>\n",
              "      <th>Liked</th>\n",
              "    </tr>\n",
              "  </thead>\n",
              "  <tbody>\n",
              "    <tr>\n",
              "      <th>108</th>\n",
              "      <td>1</td>\n",
              "    </tr>\n",
              "    <tr>\n",
              "      <th>134</th>\n",
              "      <td>1</td>\n",
              "    </tr>\n",
              "    <tr>\n",
              "      <th>585</th>\n",
              "      <td>1</td>\n",
              "    </tr>\n",
              "    <tr>\n",
              "      <th>42</th>\n",
              "      <td>0</td>\n",
              "    </tr>\n",
              "    <tr>\n",
              "      <th>990</th>\n",
              "      <td>0</td>\n",
              "    </tr>\n",
              "    <tr>\n",
              "      <th>...</th>\n",
              "      <td>...</td>\n",
              "    </tr>\n",
              "    <tr>\n",
              "      <th>48</th>\n",
              "      <td>1</td>\n",
              "    </tr>\n",
              "    <tr>\n",
              "      <th>772</th>\n",
              "      <td>0</td>\n",
              "    </tr>\n",
              "    <tr>\n",
              "      <th>824</th>\n",
              "      <td>0</td>\n",
              "    </tr>\n",
              "    <tr>\n",
              "      <th>207</th>\n",
              "      <td>0</td>\n",
              "    </tr>\n",
              "    <tr>\n",
              "      <th>969</th>\n",
              "      <td>0</td>\n",
              "    </tr>\n",
              "  </tbody>\n",
              "</table>\n",
              "<p>800 rows × 1 columns</p>\n",
              "</div><br><label><b>dtype:</b> int64</label>"
            ]
          },
          "metadata": {},
          "execution_count": 20
        }
      ]
    },
    {
      "cell_type": "code",
      "source": [
        "xtest"
      ],
      "metadata": {
        "id": "sEaa9p-u1cU0",
        "outputId": "286843a2-670b-4e19-9146-758fcce87fe6",
        "colab": {
          "base_uri": "https://localhost:8080/"
        }
      },
      "execution_count": 21,
      "outputs": [
        {
          "output_type": "execute_result",
          "data": {
            "text/plain": [
              "array([[0., 0., 0., ..., 0., 0., 0.],\n",
              "       [0., 0., 0., ..., 0., 0., 0.],\n",
              "       [0., 0., 0., ..., 0., 0., 0.],\n",
              "       ...,\n",
              "       [0., 0., 0., ..., 0., 0., 0.],\n",
              "       [0., 0., 0., ..., 0., 0., 0.],\n",
              "       [0., 0., 0., ..., 0., 0., 0.]])"
            ]
          },
          "metadata": {},
          "execution_count": 21
        }
      ]
    },
    {
      "cell_type": "code",
      "source": [
        "ytest"
      ],
      "metadata": {
        "id": "hPHOgVnH1haA",
        "outputId": "2df37234-f137-45c7-ac36-f8980f18a27d",
        "colab": {
          "base_uri": "https://localhost:8080/",
          "height": 458
        }
      },
      "execution_count": 22,
      "outputs": [
        {
          "output_type": "execute_result",
          "data": {
            "text/plain": [
              "492    0\n",
              "383    0\n",
              "856    1\n",
              "834    1\n",
              "603    1\n",
              "      ..\n",
              "72     0\n",
              "400    0\n",
              "813    0\n",
              "195    1\n",
              "45     1\n",
              "Name: Liked, Length: 200, dtype: int64"
            ],
            "text/html": [
              "<div>\n",
              "<style scoped>\n",
              "    .dataframe tbody tr th:only-of-type {\n",
              "        vertical-align: middle;\n",
              "    }\n",
              "\n",
              "    .dataframe tbody tr th {\n",
              "        vertical-align: top;\n",
              "    }\n",
              "\n",
              "    .dataframe thead th {\n",
              "        text-align: right;\n",
              "    }\n",
              "</style>\n",
              "<table border=\"1\" class=\"dataframe\">\n",
              "  <thead>\n",
              "    <tr style=\"text-align: right;\">\n",
              "      <th></th>\n",
              "      <th>Liked</th>\n",
              "    </tr>\n",
              "  </thead>\n",
              "  <tbody>\n",
              "    <tr>\n",
              "      <th>492</th>\n",
              "      <td>0</td>\n",
              "    </tr>\n",
              "    <tr>\n",
              "      <th>383</th>\n",
              "      <td>0</td>\n",
              "    </tr>\n",
              "    <tr>\n",
              "      <th>856</th>\n",
              "      <td>1</td>\n",
              "    </tr>\n",
              "    <tr>\n",
              "      <th>834</th>\n",
              "      <td>1</td>\n",
              "    </tr>\n",
              "    <tr>\n",
              "      <th>603</th>\n",
              "      <td>1</td>\n",
              "    </tr>\n",
              "    <tr>\n",
              "      <th>...</th>\n",
              "      <td>...</td>\n",
              "    </tr>\n",
              "    <tr>\n",
              "      <th>72</th>\n",
              "      <td>0</td>\n",
              "    </tr>\n",
              "    <tr>\n",
              "      <th>400</th>\n",
              "      <td>0</td>\n",
              "    </tr>\n",
              "    <tr>\n",
              "      <th>813</th>\n",
              "      <td>0</td>\n",
              "    </tr>\n",
              "    <tr>\n",
              "      <th>195</th>\n",
              "      <td>1</td>\n",
              "    </tr>\n",
              "    <tr>\n",
              "      <th>45</th>\n",
              "      <td>1</td>\n",
              "    </tr>\n",
              "  </tbody>\n",
              "</table>\n",
              "<p>200 rows × 1 columns</p>\n",
              "</div><br><label><b>dtype:</b> int64</label>"
            ]
          },
          "metadata": {},
          "execution_count": 22
        }
      ]
    },
    {
      "cell_type": "code",
      "source": [
        "xtrain.shape"
      ],
      "metadata": {
        "id": "GNfG7Ydw1i99",
        "outputId": "edd8b1bf-0406-4c94-88f9-7b531e14a979",
        "colab": {
          "base_uri": "https://localhost:8080/"
        }
      },
      "execution_count": 23,
      "outputs": [
        {
          "output_type": "execute_result",
          "data": {
            "text/plain": [
              "(800, 2035)"
            ]
          },
          "metadata": {},
          "execution_count": 23
        }
      ]
    },
    {
      "cell_type": "code",
      "source": [
        "xtest.shape"
      ],
      "metadata": {
        "id": "yNYIrHmv1mEM",
        "outputId": "7405eadc-a59a-49c4-e1d5-414916d2c96c",
        "colab": {
          "base_uri": "https://localhost:8080/"
        }
      },
      "execution_count": 24,
      "outputs": [
        {
          "output_type": "execute_result",
          "data": {
            "text/plain": [
              "(200, 2035)"
            ]
          },
          "metadata": {},
          "execution_count": 24
        }
      ]
    },
    {
      "cell_type": "markdown",
      "source": [
        "Build The Neural Net\n"
      ],
      "metadata": {
        "id": "Ozg91ofj1rX5"
      }
    },
    {
      "cell_type": "code",
      "source": [
        "from keras.models import Sequential\n",
        "from keras.layers import Input,Dense,Dropout\n",
        "from keras.callbacks import EarlyStopping"
      ],
      "metadata": {
        "id": "GskOqt8C1rx8"
      },
      "execution_count": 25,
      "outputs": []
    },
    {
      "cell_type": "code",
      "source": [
        "model = Sequential()"
      ],
      "metadata": {
        "id": "0EOGzWBS3Clo"
      },
      "execution_count": 26,
      "outputs": []
    },
    {
      "cell_type": "code",
      "source": [
        "# Input Layer\n",
        "model.add(Input(shape=(xtrain.shape[1],)))\n",
        "\n",
        "# Hidden Layer 1\n",
        "model.add(Dense(256, activation='relu'))\n",
        "# Dropout Layer 1\n",
        "model.add(Dropout(0.6))\n",
        "\n",
        "# Hidden Layer 2\n",
        "model.add(Dense(128, activation='relu'))\n",
        "# Dropout layer 2\n",
        "model.add(Dropout(0.6))\n",
        "\n",
        "# Output Layer\n",
        "model.add(Dense(1, activation='sigmoid'))"
      ],
      "metadata": {
        "id": "001h03x13H7o"
      },
      "execution_count": 27,
      "outputs": []
    },
    {
      "cell_type": "code",
      "source": [
        "model.summary()"
      ],
      "metadata": {
        "id": "4BOQQBls3J6p",
        "outputId": "78b132e6-97ff-4029-ec30-fdd1f815dc69",
        "colab": {
          "base_uri": "https://localhost:8080/",
          "height": 306
        }
      },
      "execution_count": 28,
      "outputs": [
        {
          "output_type": "display_data",
          "data": {
            "text/plain": [
              "\u001b[1mModel: \"sequential\"\u001b[0m\n"
            ],
            "text/html": [
              "<pre style=\"white-space:pre;overflow-x:auto;line-height:normal;font-family:Menlo,'DejaVu Sans Mono',consolas,'Courier New',monospace\"><span style=\"font-weight: bold\">Model: \"sequential\"</span>\n",
              "</pre>\n"
            ]
          },
          "metadata": {}
        },
        {
          "output_type": "display_data",
          "data": {
            "text/plain": [
              "┏━━━━━━━━━━━━━━━━━━━━━━━━━━━━━━━━━━━━━━┳━━━━━━━━━━━━━━━━━━━━━━━━━━━━━┳━━━━━━━━━━━━━━━━━┓\n",
              "┃\u001b[1m \u001b[0m\u001b[1mLayer (type)                        \u001b[0m\u001b[1m \u001b[0m┃\u001b[1m \u001b[0m\u001b[1mOutput Shape               \u001b[0m\u001b[1m \u001b[0m┃\u001b[1m \u001b[0m\u001b[1m        Param #\u001b[0m\u001b[1m \u001b[0m┃\n",
              "┡━━━━━━━━━━━━━━━━━━━━━━━━━━━━━━━━━━━━━━╇━━━━━━━━━━━━━━━━━━━━━━━━━━━━━╇━━━━━━━━━━━━━━━━━┩\n",
              "│ dense (\u001b[38;5;33mDense\u001b[0m)                        │ (\u001b[38;5;45mNone\u001b[0m, \u001b[38;5;34m256\u001b[0m)                 │         \u001b[38;5;34m521,216\u001b[0m │\n",
              "├──────────────────────────────────────┼─────────────────────────────┼─────────────────┤\n",
              "│ dropout (\u001b[38;5;33mDropout\u001b[0m)                    │ (\u001b[38;5;45mNone\u001b[0m, \u001b[38;5;34m256\u001b[0m)                 │               \u001b[38;5;34m0\u001b[0m │\n",
              "├──────────────────────────────────────┼─────────────────────────────┼─────────────────┤\n",
              "│ dense_1 (\u001b[38;5;33mDense\u001b[0m)                      │ (\u001b[38;5;45mNone\u001b[0m, \u001b[38;5;34m128\u001b[0m)                 │          \u001b[38;5;34m32,896\u001b[0m │\n",
              "├──────────────────────────────────────┼─────────────────────────────┼─────────────────┤\n",
              "│ dropout_1 (\u001b[38;5;33mDropout\u001b[0m)                  │ (\u001b[38;5;45mNone\u001b[0m, \u001b[38;5;34m128\u001b[0m)                 │               \u001b[38;5;34m0\u001b[0m │\n",
              "├──────────────────────────────────────┼─────────────────────────────┼─────────────────┤\n",
              "│ dense_2 (\u001b[38;5;33mDense\u001b[0m)                      │ (\u001b[38;5;45mNone\u001b[0m, \u001b[38;5;34m1\u001b[0m)                   │             \u001b[38;5;34m129\u001b[0m │\n",
              "└──────────────────────────────────────┴─────────────────────────────┴─────────────────┘\n"
            ],
            "text/html": [
              "<pre style=\"white-space:pre;overflow-x:auto;line-height:normal;font-family:Menlo,'DejaVu Sans Mono',consolas,'Courier New',monospace\">┏━━━━━━━━━━━━━━━━━━━━━━━━━━━━━━━━━━━━━━┳━━━━━━━━━━━━━━━━━━━━━━━━━━━━━┳━━━━━━━━━━━━━━━━━┓\n",
              "┃<span style=\"font-weight: bold\"> Layer (type)                         </span>┃<span style=\"font-weight: bold\"> Output Shape                </span>┃<span style=\"font-weight: bold\">         Param # </span>┃\n",
              "┡━━━━━━━━━━━━━━━━━━━━━━━━━━━━━━━━━━━━━━╇━━━━━━━━━━━━━━━━━━━━━━━━━━━━━╇━━━━━━━━━━━━━━━━━┩\n",
              "│ dense (<span style=\"color: #0087ff; text-decoration-color: #0087ff\">Dense</span>)                        │ (<span style=\"color: #00d7ff; text-decoration-color: #00d7ff\">None</span>, <span style=\"color: #00af00; text-decoration-color: #00af00\">256</span>)                 │         <span style=\"color: #00af00; text-decoration-color: #00af00\">521,216</span> │\n",
              "├──────────────────────────────────────┼─────────────────────────────┼─────────────────┤\n",
              "│ dropout (<span style=\"color: #0087ff; text-decoration-color: #0087ff\">Dropout</span>)                    │ (<span style=\"color: #00d7ff; text-decoration-color: #00d7ff\">None</span>, <span style=\"color: #00af00; text-decoration-color: #00af00\">256</span>)                 │               <span style=\"color: #00af00; text-decoration-color: #00af00\">0</span> │\n",
              "├──────────────────────────────────────┼─────────────────────────────┼─────────────────┤\n",
              "│ dense_1 (<span style=\"color: #0087ff; text-decoration-color: #0087ff\">Dense</span>)                      │ (<span style=\"color: #00d7ff; text-decoration-color: #00d7ff\">None</span>, <span style=\"color: #00af00; text-decoration-color: #00af00\">128</span>)                 │          <span style=\"color: #00af00; text-decoration-color: #00af00\">32,896</span> │\n",
              "├──────────────────────────────────────┼─────────────────────────────┼─────────────────┤\n",
              "│ dropout_1 (<span style=\"color: #0087ff; text-decoration-color: #0087ff\">Dropout</span>)                  │ (<span style=\"color: #00d7ff; text-decoration-color: #00d7ff\">None</span>, <span style=\"color: #00af00; text-decoration-color: #00af00\">128</span>)                 │               <span style=\"color: #00af00; text-decoration-color: #00af00\">0</span> │\n",
              "├──────────────────────────────────────┼─────────────────────────────┼─────────────────┤\n",
              "│ dense_2 (<span style=\"color: #0087ff; text-decoration-color: #0087ff\">Dense</span>)                      │ (<span style=\"color: #00d7ff; text-decoration-color: #00d7ff\">None</span>, <span style=\"color: #00af00; text-decoration-color: #00af00\">1</span>)                   │             <span style=\"color: #00af00; text-decoration-color: #00af00\">129</span> │\n",
              "└──────────────────────────────────────┴─────────────────────────────┴─────────────────┘\n",
              "</pre>\n"
            ]
          },
          "metadata": {}
        },
        {
          "output_type": "display_data",
          "data": {
            "text/plain": [
              "\u001b[1m Total params: \u001b[0m\u001b[38;5;34m554,241\u001b[0m (2.11 MB)\n"
            ],
            "text/html": [
              "<pre style=\"white-space:pre;overflow-x:auto;line-height:normal;font-family:Menlo,'DejaVu Sans Mono',consolas,'Courier New',monospace\"><span style=\"font-weight: bold\"> Total params: </span><span style=\"color: #00af00; text-decoration-color: #00af00\">554,241</span> (2.11 MB)\n",
              "</pre>\n"
            ]
          },
          "metadata": {}
        },
        {
          "output_type": "display_data",
          "data": {
            "text/plain": [
              "\u001b[1m Trainable params: \u001b[0m\u001b[38;5;34m554,241\u001b[0m (2.11 MB)\n"
            ],
            "text/html": [
              "<pre style=\"white-space:pre;overflow-x:auto;line-height:normal;font-family:Menlo,'DejaVu Sans Mono',consolas,'Courier New',monospace\"><span style=\"font-weight: bold\"> Trainable params: </span><span style=\"color: #00af00; text-decoration-color: #00af00\">554,241</span> (2.11 MB)\n",
              "</pre>\n"
            ]
          },
          "metadata": {}
        },
        {
          "output_type": "display_data",
          "data": {
            "text/plain": [
              "\u001b[1m Non-trainable params: \u001b[0m\u001b[38;5;34m0\u001b[0m (0.00 B)\n"
            ],
            "text/html": [
              "<pre style=\"white-space:pre;overflow-x:auto;line-height:normal;font-family:Menlo,'DejaVu Sans Mono',consolas,'Courier New',monospace\"><span style=\"font-weight: bold\"> Non-trainable params: </span><span style=\"color: #00af00; text-decoration-color: #00af00\">0</span> (0.00 B)\n",
              "</pre>\n"
            ]
          },
          "metadata": {}
        }
      ]
    },
    {
      "cell_type": "code",
      "source": [
        "model.compile(optimizer='adam', loss='binary_crossentropy', metrics=['accuracy'])"
      ],
      "metadata": {
        "id": "dayx3HXS3RgP"
      },
      "execution_count": 30,
      "outputs": []
    },
    {
      "cell_type": "code",
      "source": [
        "es = EarlyStopping(patience=10)"
      ],
      "metadata": {
        "id": "y5iNuPTi32rP"
      },
      "execution_count": 31,
      "outputs": []
    },
    {
      "cell_type": "code",
      "source": [
        "hist = model.fit(xtrain,ytrain,\n",
        "                 validation_split=0.2,\n",
        "                 batch_size=16,\n",
        "                 epochs=100,\n",
        "                 callbacks=[es])"
      ],
      "metadata": {
        "id": "-WkjhLt83_sA",
        "outputId": "261eb77f-8f7f-4856-f692-ab8378699b60",
        "colab": {
          "base_uri": "https://localhost:8080/"
        }
      },
      "execution_count": 32,
      "outputs": [
        {
          "output_type": "stream",
          "name": "stdout",
          "text": [
            "Epoch 1/100\n",
            "\u001b[1m40/40\u001b[0m \u001b[32m━━━━━━━━━━━━━━━━━━━━\u001b[0m\u001b[37m\u001b[0m \u001b[1m2s\u001b[0m 17ms/step - accuracy: 0.4765 - loss: 0.6957 - val_accuracy: 0.6938 - val_loss: 0.6881\n",
            "Epoch 2/100\n",
            "\u001b[1m40/40\u001b[0m \u001b[32m━━━━━━━━━━━━━━━━━━━━\u001b[0m\u001b[37m\u001b[0m \u001b[1m1s\u001b[0m 14ms/step - accuracy: 0.7030 - loss: 0.6757 - val_accuracy: 0.7188 - val_loss: 0.6710\n",
            "Epoch 3/100\n",
            "\u001b[1m40/40\u001b[0m \u001b[32m━━━━━━━━━━━━━━━━━━━━\u001b[0m\u001b[37m\u001b[0m \u001b[1m1s\u001b[0m 14ms/step - accuracy: 0.7997 - loss: 0.6269 - val_accuracy: 0.8000 - val_loss: 0.5918\n",
            "Epoch 4/100\n",
            "\u001b[1m40/40\u001b[0m \u001b[32m━━━━━━━━━━━━━━━━━━━━\u001b[0m\u001b[37m\u001b[0m \u001b[1m1s\u001b[0m 15ms/step - accuracy: 0.8838 - loss: 0.4607 - val_accuracy: 0.8062 - val_loss: 0.4583\n",
            "Epoch 5/100\n",
            "\u001b[1m40/40\u001b[0m \u001b[32m━━━━━━━━━━━━━━━━━━━━\u001b[0m\u001b[37m\u001b[0m \u001b[1m1s\u001b[0m 10ms/step - accuracy: 0.9432 - loss: 0.2225 - val_accuracy: 0.7812 - val_loss: 0.4258\n",
            "Epoch 6/100\n",
            "\u001b[1m40/40\u001b[0m \u001b[32m━━━━━━━━━━━━━━━━━━━━\u001b[0m\u001b[37m\u001b[0m \u001b[1m0s\u001b[0m 9ms/step - accuracy: 0.9805 - loss: 0.0945 - val_accuracy: 0.7875 - val_loss: 0.4393\n",
            "Epoch 7/100\n",
            "\u001b[1m40/40\u001b[0m \u001b[32m━━━━━━━━━━━━━━━━━━━━\u001b[0m\u001b[37m\u001b[0m \u001b[1m1s\u001b[0m 12ms/step - accuracy: 0.9928 - loss: 0.0456 - val_accuracy: 0.7563 - val_loss: 0.4892\n",
            "Epoch 8/100\n",
            "\u001b[1m40/40\u001b[0m \u001b[32m━━━━━━━━━━━━━━━━━━━━\u001b[0m\u001b[37m\u001b[0m \u001b[1m0s\u001b[0m 11ms/step - accuracy: 0.9991 - loss: 0.0300 - val_accuracy: 0.7688 - val_loss: 0.5016\n",
            "Epoch 9/100\n",
            "\u001b[1m40/40\u001b[0m \u001b[32m━━━━━━━━━━━━━━━━━━━━\u001b[0m\u001b[37m\u001b[0m \u001b[1m1s\u001b[0m 13ms/step - accuracy: 0.9954 - loss: 0.0201 - val_accuracy: 0.7750 - val_loss: 0.4878\n",
            "Epoch 10/100\n",
            "\u001b[1m40/40\u001b[0m \u001b[32m━━━━━━━━━━━━━━━━━━━━\u001b[0m\u001b[37m\u001b[0m \u001b[1m1s\u001b[0m 12ms/step - accuracy: 0.9993 - loss: 0.0118 - val_accuracy: 0.7937 - val_loss: 0.5082\n",
            "Epoch 11/100\n",
            "\u001b[1m40/40\u001b[0m \u001b[32m━━━━━━━━━━━━━━━━━━━━\u001b[0m\u001b[37m\u001b[0m \u001b[1m1s\u001b[0m 9ms/step - accuracy: 1.0000 - loss: 0.0075 - val_accuracy: 0.7812 - val_loss: 0.5701\n",
            "Epoch 12/100\n",
            "\u001b[1m40/40\u001b[0m \u001b[32m━━━━━━━━━━━━━━━━━━━━\u001b[0m\u001b[37m\u001b[0m \u001b[1m1s\u001b[0m 9ms/step - accuracy: 1.0000 - loss: 0.0085 - val_accuracy: 0.7812 - val_loss: 0.5702\n",
            "Epoch 13/100\n",
            "\u001b[1m40/40\u001b[0m \u001b[32m━━━━━━━━━━━━━━━━━━━━\u001b[0m\u001b[37m\u001b[0m \u001b[1m1s\u001b[0m 11ms/step - accuracy: 1.0000 - loss: 0.0035 - val_accuracy: 0.7812 - val_loss: 0.5825\n",
            "Epoch 14/100\n",
            "\u001b[1m40/40\u001b[0m \u001b[32m━━━━━━━━━━━━━━━━━━━━\u001b[0m\u001b[37m\u001b[0m \u001b[1m0s\u001b[0m 10ms/step - accuracy: 1.0000 - loss: 0.0032 - val_accuracy: 0.7688 - val_loss: 0.6213\n",
            "Epoch 15/100\n",
            "\u001b[1m40/40\u001b[0m \u001b[32m━━━━━━━━━━━━━━━━━━━━\u001b[0m\u001b[37m\u001b[0m \u001b[1m1s\u001b[0m 10ms/step - accuracy: 1.0000 - loss: 0.0032 - val_accuracy: 0.7688 - val_loss: 0.6239\n"
          ]
        }
      ]
    },
    {
      "cell_type": "markdown",
      "source": [
        "Learning curve"
      ],
      "metadata": {
        "id": "KIAXIVnm4yGr"
      }
    },
    {
      "cell_type": "code",
      "source": [
        "import matplotlib.pyplot as plt\n",
        "plt.figure(figsize=(10, 5))\n",
        "plt.plot(hist.history['loss'], label='Train Loss')\n",
        "plt.plot(hist.history['val_loss'], label='Validation Loss')\n",
        "plt.xlabel('epochs')\n",
        "plt.ylabel('Binary Crossentropy loss')\n",
        "plt.legend()\n",
        "plt.show()"
      ],
      "metadata": {
        "id": "44zokWhB4qxY",
        "outputId": "cd815cef-9dc5-4950-b54d-79102343a44b",
        "colab": {
          "base_uri": "https://localhost:8080/",
          "height": 465
        }
      },
      "execution_count": 33,
      "outputs": [
        {
          "output_type": "display_data",
          "data": {
            "text/plain": [
              "<Figure size 1000x500 with 1 Axes>"
            ],
            "image/png": "[encoded data removed]"
          },
          "metadata": {}
        }
      ]
    },
    {
      "cell_type": "markdown",
      "source": [
        "Evaluate the model"
      ],
      "metadata": {
        "id": "h4tWy2St48lC"
      }
    },
    {
      "cell_type": "code",
      "source": [
        "model.evaluate(xtrain,ytrain)"
      ],
      "metadata": {
        "id": "F8vnqwi048S0",
        "outputId": "ed8e0e66-01a8-4741-d8af-310cae20a57c",
        "colab": {
          "base_uri": "https://localhost:8080/"
        }
      },
      "execution_count": 34,
      "outputs": [
        {
          "output_type": "stream",
          "name": "stdout",
          "text": [
            "\u001b[1m25/25\u001b[0m \u001b[32m━━━━━━━━━━━━━━━━━━━━\u001b[0m\u001b[37m\u001b[0m \u001b[1m0s\u001b[0m 3ms/step - accuracy: 0.9930 - loss: 0.0185    \n"
          ]
        },
        {
          "output_type": "execute_result",
          "data": {
            "text/plain": [
              "[0.12520819902420044, 0.9537500143051147]"
            ]
          },
          "metadata": {},
          "execution_count": 34
        }
      ]
    },
    {
      "cell_type": "code",
      "source": [
        "model.evaluate(xtest,ytest)"
      ],
      "metadata": {
        "id": "XGs9Orkr5Du8",
        "outputId": "381b5964-4864-4a92-cea8-1b2ea812f7ed",
        "colab": {
          "base_uri": "https://localhost:8080/"
        }
      },
      "execution_count": 35,
      "outputs": [
        {
          "output_type": "stream",
          "name": "stdout",
          "text": [
            "\u001b[1m7/7\u001b[0m \u001b[32m━━━━━━━━━━━━━━━━━━━━\u001b[0m\u001b[37m\u001b[0m \u001b[1m0s\u001b[0m 6ms/step - accuracy: 0.8461 - loss: 0.4465 \n"
          ]
        },
        {
          "output_type": "execute_result",
          "data": {
            "text/plain": [
              "[0.5788449645042419, 0.800000011920929]"
            ]
          },
          "metadata": {},
          "execution_count": 35
        }
      ]
    },
    {
      "cell_type": "markdown",
      "source": [
        "Predict results for train and test"
      ],
      "metadata": {
        "id": "0UThyvIJ5PPT"
      }
    },
    {
      "cell_type": "code",
      "source": [
        "yprob_train = model.predict(xtrain)\n",
        "yprob_test = model.predict(xtest)"
      ],
      "metadata": {
        "id": "5VlFpUjM5Pu8",
        "outputId": "a34f729d-07a3-4888-9ebf-c5e480ed245b",
        "colab": {
          "base_uri": "https://localhost:8080/"
        }
      },
      "execution_count": 36,
      "outputs": [
        {
          "output_type": "stream",
          "name": "stdout",
          "text": [
            "\u001b[1m25/25\u001b[0m \u001b[32m━━━━━━━━━━━━━━━━━━━━\u001b[0m\u001b[37m\u001b[0m \u001b[1m0s\u001b[0m 8ms/step\n",
            "\u001b[1m7/7\u001b[0m \u001b[32m━━━━━━━━━━━━━━━━━━━━\u001b[0m\u001b[37m\u001b[0m \u001b[1m0s\u001b[0m 39ms/step\n"
          ]
        }
      ]
    },
    {
      "cell_type": "code",
      "source": [
        "yprob_train[0:5]"
      ],
      "metadata": {
        "id": "RBzcZpsK5h4J",
        "outputId": "67337f60-961f-4ddd-e273-a11b98728ffc",
        "colab": {
          "base_uri": "https://localhost:8080/"
        }
      },
      "execution_count": 37,
      "outputs": [
        {
          "output_type": "execute_result",
          "data": {
            "text/plain": [
              "array([[9.9823534e-01],\n",
              "       [9.9993020e-01],\n",
              "       [9.9999672e-01],\n",
              "       [1.8171932e-05],\n",
              "       [4.1907897e-05]], dtype=float32)"
            ]
          },
          "metadata": {},
          "execution_count": 37
        }
      ]
    },
    {
      "cell_type": "code",
      "source": [
        "ypred_train = [1 if prob>=0.5 else 0 for prob in yprob_train]\n",
        "ypred_test = [1 if prob>=0.5 else 0 for prob in yprob_test]"
      ],
      "metadata": {
        "id": "uiPH3xox5sKQ"
      },
      "execution_count": 38,
      "outputs": []
    },
    {
      "cell_type": "code",
      "source": [
        "from sklearn.metrics import ConfusionMatrixDisplay\n",
        "ConfusionMatrixDisplay.from_predictions(ytest, ypred_test)"
      ],
      "metadata": {
        "id": "taq07JJQ5ugB",
        "outputId": "da2fc488-226f-4f90-e474-c91264e3eb44",
        "colab": {
          "base_uri": "https://localhost:8080/",
          "height": 466
        }
      },
      "execution_count": 39,
      "outputs": [
        {
          "output_type": "execute_result",
          "data": {
            "text/plain": [
              "<sklearn.metrics._plot.confusion_matrix.ConfusionMatrixDisplay at 0x7e2ab931b310>"
            ]
          },
          "metadata": {},
          "execution_count": 39
        },
        {
          "output_type": "display_data",
          "data": {
            "text/plain": [
              "<Figure size 640x480 with 2 Axes>"
            ],
            "image/png": "[encoded data removed]"
          },
          "metadata": {}
        }
      ]
    },
    {
      "cell_type": "code",
      "source": [
        "from sklearn.metrics import classification_report\n",
        "print(classification_report(ytest, ypred_test))\n",
        ""
      ],
      "metadata": {
        "id": "x8I6Hi3L5xQR",
        "outputId": "c732d75b-2cba-469b-bda0-afd60778b267",
        "colab": {
          "base_uri": "https://localhost:8080/"
        }
      },
      "execution_count": 40,
      "outputs": [
        {
          "output_type": "stream",
          "name": "stdout",
          "text": [
            "              precision    recall  f1-score   support\n",
            "\n",
            "           0       0.84      0.75      0.79       102\n",
            "           1       0.76      0.86      0.81        98\n",
            "\n",
            "    accuracy                           0.80       200\n",
            "   macro avg       0.80      0.80      0.80       200\n",
            "weighted avg       0.80      0.80      0.80       200\n",
            "\n"
          ]
        }
      ]
    },
    {
      "cell_type": "markdown",
      "source": [
        "Save the model for future use"
      ],
      "metadata": {
        "id": "Teo1uEiK56RI"
      }
    },
    {
      "cell_type": "code",
      "source": [
        "model.save(\"SentimentModel.keras\")"
      ],
      "metadata": {
        "id": "BLAqoqwT561I"
      },
      "execution_count": 41,
      "outputs": []
    },
    {
      "cell_type": "markdown",
      "source": [
        "Load the model"
      ],
      "metadata": {
        "id": "yd4ThiBC5-bU"
      }
    },
    {
      "cell_type": "code",
      "source": [
        "from keras.models import load_model"
      ],
      "metadata": {
        "id": "ef1ivgcd58qb"
      },
      "execution_count": 42,
      "outputs": []
    },
    {
      "cell_type": "code",
      "source": [
        "nn = load_model(\"/content/SentimentModel.keras\")\n",
        "nn.summary()"
      ],
      "metadata": {
        "id": "BSXadnbZ6HUn",
        "outputId": "a939b658-719a-4951-c738-c8dc3b9df9ea",
        "colab": {
          "base_uri": "https://localhost:8080/",
          "height": 323
        }
      },
      "execution_count": 43,
      "outputs": [
        {
          "output_type": "display_data",
          "data": {
            "text/plain": [
              "\u001b[1mModel: \"sequential\"\u001b[0m\n"
            ],
            "text/html": [
              "<pre style=\"white-space:pre;overflow-x:auto;line-height:normal;font-family:Menlo,'DejaVu Sans Mono',consolas,'Courier New',monospace\"><span style=\"font-weight: bold\">Model: \"sequential\"</span>\n",
              "</pre>\n"
            ]
          },
          "metadata": {}
        },
        {
          "output_type": "display_data",
          "data": {
            "text/plain": [
              "┏━━━━━━━━━━━━━━━━━━━━━━━━━━━━━━━━━━━━━━┳━━━━━━━━━━━━━━━━━━━━━━━━━━━━━┳━━━━━━━━━━━━━━━━━┓\n",
              "┃\u001b[1m \u001b[0m\u001b[1mLayer (type)                        \u001b[0m\u001b[1m \u001b[0m┃\u001b[1m \u001b[0m\u001b[1mOutput Shape               \u001b[0m\u001b[1m \u001b[0m┃\u001b[1m \u001b[0m\u001b[1m        Param #\u001b[0m\u001b[1m \u001b[0m┃\n",
              "┡━━━━━━━━━━━━━━━━━━━━━━━━━━━━━━━━━━━━━━╇━━━━━━━━━━━━━━━━━━━━━━━━━━━━━╇━━━━━━━━━━━━━━━━━┩\n",
              "│ dense (\u001b[38;5;33mDense\u001b[0m)                        │ (\u001b[38;5;45mNone\u001b[0m, \u001b[38;5;34m256\u001b[0m)                 │         \u001b[38;5;34m521,216\u001b[0m │\n",
              "├──────────────────────────────────────┼─────────────────────────────┼─────────────────┤\n",
              "│ dropout (\u001b[38;5;33mDropout\u001b[0m)                    │ (\u001b[38;5;45mNone\u001b[0m, \u001b[38;5;34m256\u001b[0m)                 │               \u001b[38;5;34m0\u001b[0m │\n",
              "├──────────────────────────────────────┼─────────────────────────────┼─────────────────┤\n",
              "│ dense_1 (\u001b[38;5;33mDense\u001b[0m)                      │ (\u001b[38;5;45mNone\u001b[0m, \u001b[38;5;34m128\u001b[0m)                 │          \u001b[38;5;34m32,896\u001b[0m │\n",
              "├──────────────────────────────────────┼─────────────────────────────┼─────────────────┤\n",
              "│ dropout_1 (\u001b[38;5;33mDropout\u001b[0m)                  │ (\u001b[38;5;45mNone\u001b[0m, \u001b[38;5;34m128\u001b[0m)                 │               \u001b[38;5;34m0\u001b[0m │\n",
              "├──────────────────────────────────────┼─────────────────────────────┼─────────────────┤\n",
              "│ dense_2 (\u001b[38;5;33mDense\u001b[0m)                      │ (\u001b[38;5;45mNone\u001b[0m, \u001b[38;5;34m1\u001b[0m)                   │             \u001b[38;5;34m129\u001b[0m │\n",
              "└──────────────────────────────────────┴─────────────────────────────┴─────────────────┘\n"
            ],
            "text/html": [
              "<pre style=\"white-space:pre;overflow-x:auto;line-height:normal;font-family:Menlo,'DejaVu Sans Mono',consolas,'Courier New',monospace\">┏━━━━━━━━━━━━━━━━━━━━━━━━━━━━━━━━━━━━━━┳━━━━━━━━━━━━━━━━━━━━━━━━━━━━━┳━━━━━━━━━━━━━━━━━┓\n",
              "┃<span style=\"font-weight: bold\"> Layer (type)                         </span>┃<span style=\"font-weight: bold\"> Output Shape                </span>┃<span style=\"font-weight: bold\">         Param # </span>┃\n",
              "┡━━━━━━━━━━━━━━━━━━━━━━━━━━━━━━━━━━━━━━╇━━━━━━━━━━━━━━━━━━━━━━━━━━━━━╇━━━━━━━━━━━━━━━━━┩\n",
              "│ dense (<span style=\"color: #0087ff; text-decoration-color: #0087ff\">Dense</span>)                        │ (<span style=\"color: #00d7ff; text-decoration-color: #00d7ff\">None</span>, <span style=\"color: #00af00; text-decoration-color: #00af00\">256</span>)                 │         <span style=\"color: #00af00; text-decoration-color: #00af00\">521,216</span> │\n",
              "├──────────────────────────────────────┼─────────────────────────────┼─────────────────┤\n",
              "│ dropout (<span style=\"color: #0087ff; text-decoration-color: #0087ff\">Dropout</span>)                    │ (<span style=\"color: #00d7ff; text-decoration-color: #00d7ff\">None</span>, <span style=\"color: #00af00; text-decoration-color: #00af00\">256</span>)                 │               <span style=\"color: #00af00; text-decoration-color: #00af00\">0</span> │\n",
              "├──────────────────────────────────────┼─────────────────────────────┼─────────────────┤\n",
              "│ dense_1 (<span style=\"color: #0087ff; text-decoration-color: #0087ff\">Dense</span>)                      │ (<span style=\"color: #00d7ff; text-decoration-color: #00d7ff\">None</span>, <span style=\"color: #00af00; text-decoration-color: #00af00\">128</span>)                 │          <span style=\"color: #00af00; text-decoration-color: #00af00\">32,896</span> │\n",
              "├──────────────────────────────────────┼─────────────────────────────┼─────────────────┤\n",
              "│ dropout_1 (<span style=\"color: #0087ff; text-decoration-color: #0087ff\">Dropout</span>)                  │ (<span style=\"color: #00d7ff; text-decoration-color: #00d7ff\">None</span>, <span style=\"color: #00af00; text-decoration-color: #00af00\">128</span>)                 │               <span style=\"color: #00af00; text-decoration-color: #00af00\">0</span> │\n",
              "├──────────────────────────────────────┼─────────────────────────────┼─────────────────┤\n",
              "│ dense_2 (<span style=\"color: #0087ff; text-decoration-color: #0087ff\">Dense</span>)                      │ (<span style=\"color: #00d7ff; text-decoration-color: #00d7ff\">None</span>, <span style=\"color: #00af00; text-decoration-color: #00af00\">1</span>)                   │             <span style=\"color: #00af00; text-decoration-color: #00af00\">129</span> │\n",
              "└──────────────────────────────────────┴─────────────────────────────┴─────────────────┘\n",
              "</pre>\n"
            ]
          },
          "metadata": {}
        },
        {
          "output_type": "display_data",
          "data": {
            "text/plain": [
              "\u001b[1m Total params: \u001b[0m\u001b[38;5;34m1,662,725\u001b[0m (6.34 MB)\n"
            ],
            "text/html": [
              "<pre style=\"white-space:pre;overflow-x:auto;line-height:normal;font-family:Menlo,'DejaVu Sans Mono',consolas,'Courier New',monospace\"><span style=\"font-weight: bold\"> Total params: </span><span style=\"color: #00af00; text-decoration-color: #00af00\">1,662,725</span> (6.34 MB)\n",
              "</pre>\n"
            ]
          },
          "metadata": {}
        },
        {
          "output_type": "display_data",
          "data": {
            "text/plain": [
              "\u001b[1m Trainable params: \u001b[0m\u001b[38;5;34m554,241\u001b[0m (2.11 MB)\n"
            ],
            "text/html": [
              "<pre style=\"white-space:pre;overflow-x:auto;line-height:normal;font-family:Menlo,'DejaVu Sans Mono',consolas,'Courier New',monospace\"><span style=\"font-weight: bold\"> Trainable params: </span><span style=\"color: #00af00; text-decoration-color: #00af00\">554,241</span> (2.11 MB)\n",
              "</pre>\n"
            ]
          },
          "metadata": {}
        },
        {
          "output_type": "display_data",
          "data": {
            "text/plain": [
              "\u001b[1m Non-trainable params: \u001b[0m\u001b[38;5;34m0\u001b[0m (0.00 B)\n"
            ],
            "text/html": [
              "<pre style=\"white-space:pre;overflow-x:auto;line-height:normal;font-family:Menlo,'DejaVu Sans Mono',consolas,'Courier New',monospace\"><span style=\"font-weight: bold\"> Non-trainable params: </span><span style=\"color: #00af00; text-decoration-color: #00af00\">0</span> (0.00 B)\n",
              "</pre>\n"
            ]
          },
          "metadata": {}
        },
        {
          "output_type": "display_data",
          "data": {
            "text/plain": [
              "\u001b[1m Optimizer params: \u001b[0m\u001b[38;5;34m1,108,484\u001b[0m (4.23 MB)\n"
            ],
            "text/html": [
              "<pre style=\"white-space:pre;overflow-x:auto;line-height:normal;font-family:Menlo,'DejaVu Sans Mono',consolas,'Courier New',monospace\"><span style=\"font-weight: bold\"> Optimizer params: </span><span style=\"color: #00af00; text-decoration-color: #00af00\">1,108,484</span> (4.23 MB)\n",
              "</pre>\n"
            ]
          },
          "metadata": {}
        }
      ]
    },
    {
      "cell_type": "markdown",
      "source": [
        "Out of sample prediction"
      ],
      "metadata": {
        "id": "UBtdOurJ6Mkn"
      }
    },
    {
      "cell_type": "code",
      "source": [
        "s = \"Very tasty food\"\n",
        "t = Tfid.transform([s]).toarray()\n",
        "t"
      ],
      "metadata": {
        "id": "aifTR4-s6LyJ",
        "outputId": "76c2c751-48d3-4f6b-e02a-c10f5774b67c",
        "colab": {
          "base_uri": "https://localhost:8080/"
        }
      },
      "execution_count": 47,
      "outputs": [
        {
          "output_type": "execute_result",
          "data": {
            "text/plain": [
              "array([[0., 0., 0., ..., 0., 0., 0.]])"
            ]
          },
          "metadata": {},
          "execution_count": 47
        }
      ]
    },
    {
      "cell_type": "code",
      "source": [
        "model.predict(t)"
      ],
      "metadata": {
        "id": "fKAB3pdY6kE7",
        "outputId": "7eebee37-7fe1-4124-a52b-eb9caa0b6684",
        "colab": {
          "base_uri": "https://localhost:8080/"
        }
      },
      "execution_count": 48,
      "outputs": [
        {
          "output_type": "stream",
          "name": "stdout",
          "text": [
            "\u001b[1m1/1\u001b[0m \u001b[32m━━━━━━━━━━━━━━━━━━━━\u001b[0m\u001b[37m\u001b[0m \u001b[1m0s\u001b[0m 25ms/step\n"
          ]
        },
        {
          "output_type": "execute_result",
          "data": {
            "text/plain": [
              "array([[0.99634993]], dtype=float32)"
            ]
          },
          "metadata": {},
          "execution_count": 48
        }
      ]
    },
    {
      "cell_type": "code",
      "source": [
        "def predict_sentiment():\n",
        "  text = input(\"Please enter restuaraunt review : \")\n",
        "  text = preprocess_text(text)\n",
        "  text_pre = tfidf.transform([text]).toarray()\n",
        "  prob = model.predict(text_pre)\n",
        "  if prob>=0.5:\n",
        "    print(\"Positive Review\")\n",
        "  else:\n",
        "    print(\"Negative Review\")\n",
        "  return prob"
      ],
      "metadata": {
        "id": "ZyeiMupe6uqm"
      },
      "execution_count": 49,
      "outputs": []
    },
    {
      "cell_type": "code",
      "source": [
        "predict_sentiment()"
      ],
      "metadata": {
        "id": "Skkfhpkr6w73"
      },
      "execution_count": null,
      "outputs": []
    }
  ]
}